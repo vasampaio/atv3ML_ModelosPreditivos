{
 "cells": [
  {
   "cell_type": "markdown",
   "id": "bb542d14",
   "metadata": {},
   "source": [
    "# Atividade 3 ML\n",
    "\n",
    "## Vinicius Amaro Sampaio\n",
    "\n",
    "### Dataset MovieLens"
   ]
  },
  {
   "cell_type": "code",
   "execution_count": null,
   "id": "8e9f38a5",
   "metadata": {},
   "outputs": [],
   "source": [
    "import pandas as pd\n",
    "import numpy as np\n",
    "from tqdm import tqdm"
   ]
  },
  {
   "cell_type": "markdown",
   "id": "5eca408d",
   "metadata": {},
   "source": [
    "## Leitura dos arquivos"
   ]
  },
  {
   "cell_type": "code",
   "execution_count": null,
   "id": "8adbc37a",
   "metadata": {},
   "outputs": [],
   "source": [
    "movies = pd.read_csv('ml-25m/movies.csv')\n",
    "movies.head()"
   ]
  },
  {
   "cell_type": "code",
   "execution_count": null,
   "id": "9b0e4aef",
   "metadata": {},
   "outputs": [],
   "source": [
    "ratings = pd.read_csv('ml-25m/ratings.csv')\n",
    "ratings.head()"
   ]
  },
  {
   "cell_type": "code",
   "execution_count": null,
   "id": "eec46e53",
   "metadata": {},
   "outputs": [],
   "source": [
    "genome_scores = pd.read_csv('ml-25m/genome-scores.csv')\n",
    "genome_scores.head()"
   ]
  },
  {
   "cell_type": "code",
   "execution_count": null,
   "id": "e4cff730",
   "metadata": {},
   "outputs": [],
   "source": [
    "genome_tags = pd.read_csv('ml-25m/genome-tags.csv')\n",
    "genome_tags.head()"
   ]
  },
  {
   "cell_type": "code",
   "execution_count": null,
   "id": "58c63703",
   "metadata": {},
   "outputs": [],
   "source": [
    "print('Size of movies:', movies.shape)\n",
    "print('Size of ratings:', ratings.shape)\n",
    "print('Size of genome_scores:', genome_scores.shape)\n",
    "print('Size of genome_tags:', genome_tags.shape)"
   ]
  },
  {
   "cell_type": "code",
   "execution_count": null,
   "id": "b0804934",
   "metadata": {},
   "outputs": [],
   "source": [
    "movies_with_ratings = pd.merge(movies, ratings[['rating','movieId']].groupby('movieId').mean(), on='movieId').sort_values('movieId')\n",
    "movies_with_ratings.head()"
   ]
  },
  {
   "cell_type": "code",
   "execution_count": null,
   "id": "11ced11d",
   "metadata": {},
   "outputs": [],
   "source": [
    "genome_with_scores = pd.merge(genome_scores,genome_tags[['tagId','tag']],on='tagId').sort_values('movieId')\n",
    "genome_with_scores.head()"
   ]
  },
  {
   "cell_type": "code",
   "execution_count": null,
   "id": "d2a918de",
   "metadata": {},
   "outputs": [],
   "source": [
    "df = pd.DataFrame(movies_with_ratings['movieId'])\n",
    "for i in tqdm(genome_tags.values):\n",
    "    values = []\n",
    "    for j in  genome_scores.values:\n",
    "        if i[0] == j[1]:\n",
    "            values.append([j[0],j[2]])\n",
    "    df1 = pd.DataFrame(values, columns=['movieId',str(i[1])])\n",
    "    df = pd.merge(df,df1,on='movieId')\n",
    "    "
   ]
  },
  {
   "cell_type": "code",
   "execution_count": null,
   "id": "143230b6",
   "metadata": {},
   "outputs": [],
   "source": [
    "df_final = pd.merge(movies_with_ratings,df,on='movieId')\n",
    "df_final.to_csv('ml-25m/final.csv',index=False)\n",
    "print('Size of final:', df_final.shape)"
   ]
  },
  {
   "cell_type": "code",
   "execution_count": null,
   "id": "8070d410",
   "metadata": {},
   "outputs": [],
   "source": [
    "df_final.head()"
   ]
  },
  {
   "cell_type": "code",
   "execution_count": null,
   "id": "c197132f",
   "metadata": {},
   "outputs": [],
   "source": [
    "len(movies)"
   ]
  },
  {
   "cell_type": "code",
   "execution_count": null,
   "id": "bf2d8357",
   "metadata": {},
   "outputs": [],
   "source": []
  }
 ],
 "metadata": {
  "kernelspec": {
   "display_name": "Python 3",
   "language": "python",
   "name": "python3"
  },
  "language_info": {
   "codemirror_mode": {
    "name": "ipython",
    "version": 3
   },
   "file_extension": ".py",
   "mimetype": "text/x-python",
   "name": "python",
   "nbconvert_exporter": "python",
   "pygments_lexer": "ipython3",
   "version": "3.9.4"
  }
 },
 "nbformat": 4,
 "nbformat_minor": 5
}
