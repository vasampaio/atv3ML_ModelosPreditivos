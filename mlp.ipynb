{
 "cells": [
  {
   "cell_type": "code",
   "execution_count": null,
   "metadata": {},
   "outputs": [],
   "source": [
    "from sklearn.neural_network import MLPClassifier\n",
    "\n",
    "import pandas as pd\n",
    "import numpy as np\n",
    "from sklearn.model_selection import train_test_split\n",
    "from sklearn.metrics import accuracy_score\n",
    "from sklearn.metrics import confusion_matrix\n",
    "from sklearn.metrics import classification_report\n",
    "from sklearn.metrics import roc_auc_score\n",
    "from sklearn.metrics import roc_curve\n",
    "from sklearn.metrics import auc\n",
    "import matplotlib.pyplot as plt\n",
    "import seaborn as sns\n",
    "from sklearn.preprocessing import label_binarize\n",
    "from sklearn.multiclass import OneVsRestClassifier"
   ]
  },
  {
   "cell_type": "code",
   "execution_count": null,
   "metadata": {},
   "outputs": [],
   "source": [
    "x = pd.read_csv('ml-25m/pca_final.csv')\n",
    "y = pd.read_csv('ml-25m/rating_only.csv')"
   ]
  },
  {
   "cell_type": "code",
   "execution_count": null,
   "metadata": {},
   "outputs": [],
   "source": [
    "def run_MLPClassifier(x, y, hidden_layer_sizes, activation, solver, learning_rate):\n",
    "    x_train, x_test, y_train, y_test = train_test_split(x, y, test_size=0.2, random_state=42)\n",
    "    model = MLPClassifier(hidden_layer_sizes=hidden_layer_sizes, activation=activation, solver=solver, learning_rate_init=learning_rate)\n",
    "    model.fit(x, y)\n",
    "    y_pred = model.predict(x_test)\n",
    "    print(classification_report(y_test, y_pred))\n",
    "\n",
    "    with open('MLP\\\\reportMLPClassifier%s%d%s%0.0f.txt' %(activation, hidden_layer_sizes,solver,learning_rate), 'w') as f:\n",
    "        print(classification_report(y_test, y_pred), file=f)\n",
    "\n",
    "    plt.figure(figsize=(10,10))\n",
    "    plt.matshow(confusion_matrix(y_test, y_pred),fignum=1)\n",
    "    sns.heatmap(confusion_matrix(y_test, y_pred), annot=True, fmt='d', cmap='Blues', xticklabels=['bad', 'good', 'ok'], yticklabels=['bad', 'good', 'ok'])\n",
    "    plt.title('Confusion Matrix for MLPClassifier Size: %d Activation: %s solver: %s L_rate %0.2f' %(hidden_layer_sizes, activation, solver, learning_rate))\n",
    "    plt.savefig('MLP\\confusion_matrixMLPClassifier%s%d%s%0.0f.png' %(activation, hidden_layer_sizes,solver,learning_rate))\n",
    "    plt.show()\n",
    "\n",
    "    unique, counts = np.unique(y, return_counts=True)\n",
    "\n",
    "    y = label_binarize(y, classes=unique)\n",
    "    n_classes = len(unique)\n",
    "\n",
    "    x_train, x_test, y_train, y_test = train_test_split(x, y, test_size=0.2, random_state=42)\n",
    "    \n",
    "    clf = OneVsRestClassifier(MLPClassifier(hidden_layer_sizes=hidden_layer_sizes, activation=activation, solver=solver, learning_rate_init=learning_rate))\n",
    "    y_score = clf.fit(x_train, y_train).predict_proba(x_test)\n",
    "\n",
    "    fpr = dict()\n",
    "    tpr = dict()\n",
    "    roc_auc = dict()\n",
    "    for i in range(n_classes):\n",
    "        fpr[i], tpr[i], _ = roc_curve(y_test[:, i], y_score[:, i])\n",
    "        roc_auc[i] = auc(fpr[i], tpr[i])\n",
    "\n",
    "\n",
    "    fig, ax = plt.subplots(figsize=(10,10))\n",
    "    ax.plot([0, 1], [0, 1], 'k--')\n",
    "    ax.axis(xmin=0, xmax=1, ymin=0, ymax=1.05)\n",
    "    ax.set_xlabel('False Positive Rate')\n",
    "    ax.set_ylabel('True Positive Rate')\n",
    "    ax.set_title('Receiver operating characteristic for MLPClassifier for Size: %d Activation: %s solver: %s L_rate %0.2f' %(hidden_layer_sizes, activation, solver, learning_rate))\n",
    "    # Plot of a ROC curve for a specific class\n",
    "    for i in range(n_classes):\n",
    "        \n",
    "        ax.plot(fpr[i], tpr[i], label='ROC curve for class %s (area = %0.2f)' % (unique[i], roc_auc[i]))\n",
    "        \n",
    "    ax.legend(loc=\"lower right\")\n",
    "    fig.savefig('MLP\\\\roc_curveMLPClassifier%s%d%s%0.0f.png' %(activation, hidden_layer_sizes,solver,learning_rate))\n",
    "    plt.show()"
   ]
  },
  {
   "cell_type": "code",
   "execution_count": null,
   "metadata": {},
   "outputs": [],
   "source": [
    "for hidden_layer_sizes in [100, 500, 1000]:\n",
    "    for activation in ['logistic', 'tanh', 'relu']:\n",
    "        for solver in ['lbfgs', 'sgd', 'adam']: \n",
    "            run_MLPClassifier(x, y, hidden_layer_sizes, activation, solver, 0.1)"
   ]
  },
  {
   "cell_type": "code",
   "execution_count": null,
   "metadata": {},
   "outputs": [],
   "source": []
  }
 ],
 "metadata": {
  "interpreter": {
   "hash": "2cc444b1df7cfdada3b8a0bc137cc44496e3397a354a0cf79fe311f3928478d2"
  },
  "kernelspec": {
   "display_name": "Python 3.9.4 64-bit",
   "language": "python",
   "name": "python3"
  },
  "language_info": {
   "codemirror_mode": {
    "name": "ipython",
    "version": 3
   },
   "file_extension": ".py",
   "mimetype": "text/x-python",
   "name": "python",
   "nbconvert_exporter": "python",
   "pygments_lexer": "ipython3",
   "version": "3.9.4"
  },
  "orig_nbformat": 4
 },
 "nbformat": 4,
 "nbformat_minor": 2
}
