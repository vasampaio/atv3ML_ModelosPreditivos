{
 "cells": [
  {
   "cell_type": "code",
   "execution_count": null,
   "metadata": {},
   "outputs": [],
   "source": [
    "import pandas as pd\n",
    "import numpy as np\n",
    "from sklearn.svm import SVC\n",
    "from sklearn.model_selection import train_test_split\n",
    "from sklearn.metrics import accuracy_score\n",
    "from sklearn.metrics import confusion_matrix\n",
    "from sklearn.metrics import classification_report\n",
    "from sklearn.metrics import roc_auc_score\n",
    "from sklearn.metrics import roc_curve\n",
    "from sklearn.metrics import auc\n",
    "import matplotlib.pyplot as plt\n",
    "import seaborn as sns\n",
    "from sklearn.preprocessing import label_binarize\n",
    "from sklearn.multiclass import OneVsRestClassifier"
   ]
  },
  {
   "cell_type": "code",
   "execution_count": null,
   "metadata": {},
   "outputs": [],
   "source": [
    "x = pd.read_csv('ml-25m/pca_final.csv')\n",
    "y = pd.read_csv('ml-25m/rating_only.csv')"
   ]
  },
  {
   "cell_type": "code",
   "execution_count": null,
   "metadata": {},
   "outputs": [],
   "source": [
    "#split data into training and testing\n",
    "x_train, x_test, y_train, y_test = train_test_split(x.values, y.values, test_size=0.2, random_state=42)"
   ]
  },
  {
   "cell_type": "code",
   "execution_count": null,
   "metadata": {},
   "outputs": [],
   "source": [
    "def run_SVM(x, y, k, c, gamma, d):\n",
    "    x_train, x_test, y_train, y_test = train_test_split(x, y, test_size=0.2, random_state=42)\n",
    "    model = SVC(kernel=k, gamma=gamma, probability=True, C=c,degree=d)\n",
    "    model.fit(x, y)\n",
    "    y_pred = model.predict(x_test)\n",
    "    print(classification_report(y_test, y_pred))\n",
    "\n",
    "    with open('SVM\\\\reportSVM%s%s%s.txt' %(k, gamma,c), 'w') as f:\n",
    "        print(classification_report(y_test, y_pred), file=f)\n",
    "\n",
    "    plt.figure(figsize=(10,10))\n",
    "    plt.matshow(confusion_matrix(y_test, y_pred),fignum=1)\n",
    "    sns.heatmap(confusion_matrix(y_test, y_pred), annot=True, fmt='d', cmap='Blues', xticklabels=['bad', 'good', 'ok'], yticklabels=['bad', 'good', 'ok'])\n",
    "    plt.title('Confusion Matrix for SVM kernel:' + str(k) + ' gamma:' + str(gamma) + ' C:' + str(c))\n",
    "    plt.savefig('SVM\\confusion_matrixSVM%s%s%s.png' %(k, gamma,c))\n",
    "    plt.show()\n",
    "\n",
    "    unique, counts = np.unique(y, return_counts=True)\n",
    "\n",
    "    y = label_binarize(y, classes=unique)\n",
    "    n_classes = len(unique)\n",
    "\n",
    "    x_train, x_test, y_train, y_test = train_test_split(x, y, test_size=0.2, random_state=42)\n",
    "    \n",
    "    clf = OneVsRestClassifier(SVC(kernel=k, gamma=gamma, probability=True, C=c,degree=d))\n",
    "    y_score = clf.fit(x_train, y_train).decision_function(x_test)\n",
    "\n",
    "    fpr = dict()\n",
    "    tpr = dict()\n",
    "    roc_auc = dict()\n",
    "    for i in range(n_classes):\n",
    "        fpr[i], tpr[i], _ = roc_curve(y_test[:, i], y_score[:, i])\n",
    "        roc_auc[i] = auc(fpr[i], tpr[i])\n",
    "\n",
    "\n",
    "    fig, ax = plt.subplots(figsize=(10,10))\n",
    "    ax.plot([0, 1], [0, 1], 'k--')\n",
    "    ax.axis(xmin=0, xmax=1, ymin=0, ymax=1.05)\n",
    "    ax.set_xlabel('False Positive Rate')\n",
    "    ax.set_ylabel('True Positive Rate')\n",
    "    ax.set_title('Receiver operating characteristic for SVM kernel:' + str(k) + ' gamma:' + str(gamma) + ' C:' + str(c))\n",
    "    # Plot of a ROC curve for a specific class\n",
    "    for i in range(n_classes):\n",
    "        \n",
    "        ax.plot(fpr[i], tpr[i], label='ROC curve for class %s (area = %0.2f)' % (unique[i], roc_auc[i]))\n",
    "        \n",
    "    ax.legend(loc=\"lower right\")\n",
    "    fig.savefig('SVM\\\\roc_curveSVM%s%s%s.png' %(k, gamma,c))\n",
    "    plt.show()"
   ]
  },
  {
   "cell_type": "code",
   "execution_count": null,
   "metadata": {},
   "outputs": [],
   "source": [
    "for k in ['linear','poly', 'rbf', 'sigmoid']:\n",
    "    for c in [1, 10]:\n",
    "        for gamma in [0.001, 0.01, 0.1]:\n",
    "            run_SVM(x, y, k, c, gamma, 3)"
   ]
  },
  {
   "cell_type": "code",
   "execution_count": null,
   "metadata": {},
   "outputs": [],
   "source": []
  }
 ],
 "metadata": {
  "interpreter": {
   "hash": "2cc444b1df7cfdada3b8a0bc137cc44496e3397a354a0cf79fe311f3928478d2"
  },
  "kernelspec": {
   "display_name": "Python 3.9.4 64-bit",
   "language": "python",
   "name": "python3"
  },
  "language_info": {
   "codemirror_mode": {
    "name": "ipython",
    "version": 3
   },
   "file_extension": ".py",
   "mimetype": "text/x-python",
   "name": "python",
   "nbconvert_exporter": "python",
   "pygments_lexer": "ipython3",
   "version": "3.9.4"
  },
  "orig_nbformat": 4
 },
 "nbformat": 4,
 "nbformat_minor": 2
}
